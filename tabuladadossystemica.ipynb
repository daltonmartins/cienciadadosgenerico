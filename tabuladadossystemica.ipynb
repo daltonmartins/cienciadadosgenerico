{
 "cells": [
  {
   "cell_type": "code",
   "execution_count": 47,
   "id": "6b21855b",
   "metadata": {},
   "outputs": [],
   "source": [
    "import pandas as pd"
   ]
  },
  {
   "cell_type": "markdown",
   "id": "57a7dfc4",
   "metadata": {},
   "source": [
    "Tabulação Mídias Sociais\n",
    "\n",
    "\n",
    "\n",
    "\n",
    "\n"
   ]
  },
  {
   "cell_type": "code",
   "execution_count": 48,
   "id": "c3577cb5",
   "metadata": {},
   "outputs": [],
   "source": [
    "writer = pd.ExcelWriter('tabulacaomidias.xlsx', engine='xlsxwriter')\n",
    "df=pd.read_excel('BDMIDIAS.xlsx',index_col='SbjNum')\n",
    "nomescolunas=df.columns.tolist()\n",
    "for coluna in nomescolunas:\n",
    "    dfdescritivo=pd.concat([df[coluna].value_counts(normalize=True),\n",
    "                df[coluna].value_counts()], \n",
    "                axis=1,\n",
    "                keys=('%','contador'))\n",
    "    dfdescritivo.to_excel(writer, sheet_name=coluna)\n",
    "writer.save()"
   ]
  },
  {
   "cell_type": "markdown",
   "id": "d6791745",
   "metadata": {},
   "source": [
    "Tabulação PEAMP"
   ]
  },
  {
   "cell_type": "code",
   "execution_count": 49,
   "id": "bcf88184",
   "metadata": {},
   "outputs": [],
   "source": [
    "writer = pd.ExcelWriter('tabulacaoPEAMP.xlsx', engine='xlsxwriter')\n",
    "df=pd.read_excel('BDPEAMP.xlsx',index_col='SbjNum')\n",
    "nomescolunas=df.columns.tolist()\n",
    "for coluna in nomescolunas:\n",
    "    dfdescritivo=pd.concat([df[coluna].value_counts(normalize=True),\n",
    "                df[coluna].value_counts()], \n",
    "                axis=1,\n",
    "                keys=('%','contador'))\n",
    "    dfdescritivo.to_excel(writer, sheet_name=coluna)\n",
    "writer.save()"
   ]
  },
  {
   "cell_type": "markdown",
   "id": "21fcf81d",
   "metadata": {},
   "source": [
    "Tabulação PESCAM"
   ]
  },
  {
   "cell_type": "code",
   "execution_count": 51,
   "id": "5f2207a5",
   "metadata": {},
   "outputs": [],
   "source": [
    "writer = pd.ExcelWriter('tabulacaoPESCAN.xlsx', engine='xlsxwriter')\n",
    "df=pd.read_excel('BDPESCAN.xlsx',index_col='SbjNum')\n",
    "nomescolunas=df.columns.tolist()\n",
    "for coluna in nomescolunas:\n",
    "    dfdescritivo=pd.concat([df[coluna].value_counts(normalize=True),\n",
    "                df[coluna].value_counts()], \n",
    "                axis=1,\n",
    "                keys=('%','contador'))\n",
    "    dfdescritivo.to_excel(writer, sheet_name=coluna)\n",
    "writer.save()"
   ]
  },
  {
   "cell_type": "markdown",
   "id": "f454df28",
   "metadata": {},
   "source": [
    "Tabulação PESCAM"
   ]
  },
  {
   "cell_type": "code",
   "execution_count": 52,
   "id": "cff5cbe5",
   "metadata": {},
   "outputs": [],
   "source": [
    "writer = pd.ExcelWriter('tabulacaoPETER.xlsx', engine='xlsxwriter')\n",
    "df=pd.read_excel('BDPETER.xlsx',index_col='SbjNum')\n",
    "nomescolunas=df.columns.tolist()\n",
    "for coluna in nomescolunas:\n",
    "    dfdescritivo=pd.concat([df[coluna].value_counts(normalize=True),\n",
    "                df[coluna].value_counts()], \n",
    "                axis=1,\n",
    "                keys=('%','contador'))\n",
    "    dfdescritivo.to_excel(writer, sheet_name=coluna)\n",
    "writer.save()"
   ]
  },
  {
   "cell_type": "code",
   "execution_count": null,
   "id": "3ba66136",
   "metadata": {},
   "outputs": [],
   "source": []
  }
 ],
 "metadata": {
  "kernelspec": {
   "display_name": "Python 3",
   "language": "python",
   "name": "python3"
  },
  "language_info": {
   "codemirror_mode": {
    "name": "ipython",
    "version": 3
   },
   "file_extension": ".py",
   "mimetype": "text/x-python",
   "name": "python",
   "nbconvert_exporter": "python",
   "pygments_lexer": "ipython3",
   "version": "3.8.8"
  }
 },
 "nbformat": 4,
 "nbformat_minor": 5
}
